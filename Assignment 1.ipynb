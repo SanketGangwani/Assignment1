{
 "cells": [
  {
   "cell_type": "markdown",
   "id": "a4fee179-17a6-4b2b-bf52-35712dc04684",
   "metadata": {},
   "source": [
    "Q1. Create one variable containing following type of data:\n",
    "\n",
    "(i) string\n",
    "\n",
    "(ii) list\n",
    "\n",
    "(iii) float\n",
    "\n",
    "(iv) tuple"
   ]
  },
  {
   "cell_type": "code",
   "execution_count": 1,
   "id": "240eb7d9-b0ee-4ce6-b161-efb1de0d5bd1",
   "metadata": {},
   "outputs": [
    {
     "name": "stdout",
     "output_type": "stream",
     "text": [
      "The type of the var_str variable is      : <class 'str'>\n",
      "The type of the var_list variable is     : <class 'list'>\n",
      "The type of the var_float variable is    : <class 'float'>\n",
      "The type of the var_tuple variable is    : <class 'tuple'>\n"
     ]
    }
   ],
   "source": [
    "var_str = 'This is my string'                                          # For string\n",
    "print('The type of the var_str variable is      :',type(var_str))    \n",
    "\n",
    "var_list = [1,2,3,2.45,'Pwskills',True]\n",
    "print('The type of the var_list variable is     :',type(var_list)) \n",
    "\n",
    "var_float = 3.14\n",
    "print('The type of the var_float variable is    :',type(var_float))\n",
    "\n",
    "var_tuple = (1,2,3,'Pwskills',True)\n",
    "print('The type of the var_tuple variable is    :',type(var_tuple))"
   ]
  },
  {
   "cell_type": "markdown",
   "id": "6a1602b4-436b-46c1-90d5-4168ba26f4d6",
   "metadata": {},
   "source": [
    "Q2. Given are some following variables containing data:\n",
    "\n",
    "(i) var1 = ‘ ‘\n",
    "\n",
    "(ii) var2 = ‘[ DS , ML , Python]’\n",
    "\n",
    "(iii) var3 = [ ‘DS’ , ’ML’ , ‘Python’ ]\n",
    "\n",
    "(iv) var4 = 1.\n",
    "\n",
    "What will be the data type of the above given variable."
   ]
  },
  {
   "cell_type": "code",
   "execution_count": 2,
   "id": "dcafdea1-5bf6-4b36-bfb6-725e655307ba",
   "metadata": {},
   "outputs": [
    {
     "name": "stdout",
     "output_type": "stream",
     "text": [
      "Type of var1 is:  <class 'str'>\n",
      "Type of var2 is:  <class 'str'>\n",
      "Type of var3 is:  <class 'list'>\n",
      "Type of var4 is:  <class 'float'>\n"
     ]
    }
   ],
   "source": [
    "# Explaination:\n",
    "# (i) var1 = ''\n",
    "#        Since the variable is assigned with data enclosed in quotes, the variable acts as a string\n",
    "\n",
    "# Proof:\n",
    "var1 = ''\n",
    "print('Type of var1 is: ',type(var1))\n",
    "\n",
    "# Explanation:\n",
    "# (ii) var2 = ‘[ DS , ML , Python]’\n",
    "#        Just like var1, the var2 variable is assigned with data enclosed in quotes, the variable acts as a string, However if the quotes were removed the variable would act like a list\n",
    "\n",
    "# Proof:\n",
    "var2 = '[ DS , ML , Python]'\n",
    "print('Type of var2 is: ',type(var2))\n",
    "\n",
    "# Explanation:\n",
    "# (iii) var3 = [ ‘DS’ , ’ML’ , ‘Python’ ]\n",
    "#        Since the variable is assigned with some data enclosed in square brackets i.e. [ ], the variable acts as a list\n",
    "\n",
    "# Proof:\n",
    "var3 = [ 'DS' , 'ML' , 'Python' ]\n",
    "print('Type of var3 is: ',type(var3))\n",
    "\n",
    "# Explanation:\n",
    "# (iv) var4 = 1.\n",
    "#        Since variable is directly assigned with a decimal number, the variable acts as a float.\n",
    "\n",
    "# Proof:\n",
    "var4 = 1.\n",
    "print('Type of var4 is: ',type(var4))"
   ]
  },
  {
   "cell_type": "markdown",
   "id": "40dd1b81-8cd5-4dbf-bbb9-4ec04646b374",
   "metadata": {},
   "source": [
    "Q3. Explain the use of the following operators using an example:\n",
    "\n",
    "(i) /\n",
    "\n",
    "(ii) %\n",
    "\n",
    "(iii) //\n",
    "\n",
    "(iv) **"
   ]
  },
  {
   "cell_type": "code",
   "execution_count": 3,
   "id": "9b123c1e-ca12-4a1b-8802-c2dea3ab562e",
   "metadata": {},
   "outputs": [
    {
     "name": "stdout",
     "output_type": "stream",
     "text": [
      "Division operator[/]           : 10/3    :  3.3333333333333335\n",
      "Modulus operator[%]            : 10%3    :  1\n",
      "Floor Division operator[//]    : 10//3   :  3\n",
      "Exponential operator[**]       : 10**3   :  1000\n"
     ]
    }
   ],
   "source": [
    "# (i) /\n",
    "# The above arithmetic operator is 'Division' which is used to divide two numbers (Integer,Float) which provides output in float\n",
    "# Syntax : Dividend / Divisor\n",
    "# Example :\n",
    "print('Division operator[/]           : 10/3    : ',10/3)\n",
    "\n",
    "# (ii) %\n",
    "# The above arithmetic operator is 'Modulus' which is used to find the remainder of a divison operation\n",
    "# Syntax : Dividend % Divisor\n",
    "# Example : \n",
    "print('Modulus operator[%]            : 10%3    : ',10%3)\n",
    "\n",
    "# (iii) //\n",
    "# The above arithmetic operator is 'Floor Division'.\n",
    "# Just like Division operator, 'Floor Division' is used to divide two numbers, only difference with floor division is that it will give output as a whole number i.e. integer format\n",
    "# Syntax : Dividend // Divisor\n",
    "# Example : \n",
    "print('Floor Division operator[//]    : 10//3   : ',10//3)\n",
    "\n",
    "# (iv) **\n",
    "# The above arithmetic operator is 'Exponential' which is used to find the resultant of a number with a provided power\n",
    "# Syntax : Base Number**Power Number\n",
    "# Example : \n",
    "print('Exponential operator[**]       : 10**3   : ',10**3)"
   ]
  },
  {
   "cell_type": "markdown",
   "id": "ab5f9674-6608-41f5-ae83-82845f63503a",
   "metadata": {},
   "source": [
    "Q4. Create a list of length 10 of your choice containing multiple types of data. Using for loop print the\n",
    "element and its data type."
   ]
  },
  {
   "cell_type": "code",
   "execution_count": 4,
   "id": "5a129086-3ea7-4c01-856e-7a7bf6e88315",
   "metadata": {},
   "outputs": [
    {
     "name": "stdout",
     "output_type": "stream",
     "text": [
      "For a list of length 10 following are list elements with their data types:\n",
      "\n",
      "Element is '1' it's datatype is :  <class 'int'>\n",
      "----------------------------------------------------------------------------------------------------\n",
      "Element is '2' it's datatype is :  <class 'int'>\n",
      "----------------------------------------------------------------------------------------------------\n",
      "Element is '3.45' it's datatype is :  <class 'float'>\n",
      "----------------------------------------------------------------------------------------------------\n",
      "Element is '(4+7j)' it's datatype is :  <class 'complex'>\n",
      "----------------------------------------------------------------------------------------------------\n",
      "Element is 'Pwskills' it's datatype is :  <class 'str'>\n",
      "----------------------------------------------------------------------------------------------------\n",
      "Element is 'True' it's datatype is :  <class 'bool'>\n",
      "----------------------------------------------------------------------------------------------------\n",
      "Element is 'Assignment' it's datatype is :  <class 'str'>\n",
      "----------------------------------------------------------------------------------------------------\n",
      "Element is '4' it's datatype is :  <class 'int'>\n",
      "----------------------------------------------------------------------------------------------------\n",
      "Element is '9' it's datatype is :  <class 'int'>\n",
      "----------------------------------------------------------------------------------------------------\n",
      "Element is 'False' it's datatype is :  <class 'bool'>\n",
      "----------------------------------------------------------------------------------------------------\n"
     ]
    }
   ],
   "source": [
    "lst = [1,2,3.45,4+7j, 'Pwskills',True,\"Assignment\",4,9,False]\n",
    "\n",
    "print('For a list of length',len(lst),'following are list elements with their data types:\\n')\n",
    "for i in lst:\n",
    "    print(\"Element is '\"+str(i)+\"'\",\"it's datatype is : \",type(i))\n",
    "    print('-'*100)"
   ]
  },
  {
   "cell_type": "markdown",
   "id": "84a43e0b-6ec3-4308-bb04-b06103973f15",
   "metadata": {},
   "source": [
    "Q5. Using a while loop, verify if the number A is purely divisible by number B and if so then how many times it can be divisible."
   ]
  },
  {
   "cell_type": "code",
   "execution_count": 5,
   "id": "f6d2faee-1d68-4855-b75e-b8832a6615e3",
   "metadata": {},
   "outputs": [
    {
     "name": "stdin",
     "output_type": "stream",
     "text": [
      "Enter Divident Number :  100000\n",
      "Enter Divisor Number  :  2\n"
     ]
    },
    {
     "name": "stdout",
     "output_type": "stream",
     "text": [
      "----------------------------------------\n",
      "100000 is purely divisible by 2\n",
      "Number of divisions possible :  5\n",
      "----------------------------------------\n"
     ]
    }
   ],
   "source": [
    "a = int(input('Enter Divident Number : '))\n",
    "b = int(input('Enter Divisor Number  : '))\n",
    "\n",
    "if a%b == 0:\n",
    "    print('-'*40)\n",
    "    print(a,'is purely divisible by',b)\n",
    "    counter = 0\n",
    "    while True:\n",
    "        a = a/b\n",
    "        counter+=1\n",
    "        if a%b != 0:\n",
    "            break\n",
    "    print('Number of divisions possible : ',counter)\n",
    "    print('-'*40)\n",
    "else:\n",
    "    print('-'*40)\n",
    "    print(a,'is not purely divisible by',b)\n",
    "    print('-'*40)"
   ]
  },
  {
   "cell_type": "markdown",
   "id": "2f3f742e-6636-414d-bc57-44ec18fc0691",
   "metadata": {},
   "source": [
    "Q6. Create a list containing 25 int type data. Using for loop and if-else condition print if the element is\n",
    "divisible by 3 or not."
   ]
  },
  {
   "cell_type": "code",
   "execution_count": 6,
   "id": "94c0f13c-60c0-4182-84e3-b2f229e53d72",
   "metadata": {},
   "outputs": [
    {
     "name": "stdout",
     "output_type": "stream",
     "text": [
      "----------------------------------------------------------------------------------------------------\n",
      "List elements divisble by 3 are      :  [3, 57, 39, 87, 39, 27, 75, 78, 15, 84, 90]\n",
      "----------------------------------------------------------------------------------------------------\n",
      "List elements not divisble by 3 are  :  [7, 56, 41, 14, 28, 52, 85, 76, 74, 94, 13, 47, 40, 8]\n",
      "----------------------------------------------------------------------------------------------------\n"
     ]
    }
   ],
   "source": [
    "lst = [7, 3, 57, 56, 41, 14, 28, 39, 87, 39, 52, 85, 76, 74, 27, 75, 78, 94, 15, 13, 84, 47, 90, 40, 8]\n",
    "\n",
    "divisible   = []\n",
    "indivisible = []\n",
    "for i in lst:\n",
    "    if(i%3 == 0):\n",
    "        divisible.append(i)\n",
    "    else:\n",
    "        indivisible.append(i)\n",
    "        \n",
    "print('-'*100)\n",
    "print('List elements divisble by 3 are      : ',divisible)\n",
    "print('-'*100)\n",
    "print('List elements not divisble by 3 are  : ',indivisible)\n",
    "print('-'*100)"
   ]
  },
  {
   "cell_type": "markdown",
   "id": "2718940f-e4b3-4cda-9691-08908808f935",
   "metadata": {},
   "source": [
    "Q7. What do you understand about mutable and immutable data types? Give examples for both showing\n",
    "this property.\n"
   ]
  },
  {
   "cell_type": "code",
   "execution_count": 7,
   "id": "8cb609cf-7070-47c9-b73f-437fdfc6cb27",
   "metadata": {},
   "outputs": [
    {
     "name": "stdout",
     "output_type": "stream",
     "text": [
      "----------------------------------------------------------------------------------------------------\n",
      "Example of a Mutable Data type[List]: \n",
      "\n",
      "Created list                           : [1, 2, 3, 4, 5]\n",
      "List after updating new items          : [1, 2, 3, 4, 5, 10]\n",
      "List after removing an existing item   : [2, 3, 4, 5, 10]\n",
      "----------------------------------------------------------------------------------------------------\n"
     ]
    }
   ],
   "source": [
    "# Mutable Data types:\n",
    "#    Mutable data can be defined as those data types which can be altered or modified after creation.\n",
    "#    Mutable data types allow to append or remove data or do arithmetic operations even after creation\n",
    "#    Examples: List,Set,Dictionary\n",
    "\n",
    "\n",
    "print('-'*100)\n",
    "print('Example of a Mutable Data type[List]: \\n')\n",
    "a = [1,2,3,4,5]\n",
    "print('Created list                           :',a)\n",
    "a.append(10)\n",
    "print('List after updating new items          :',a)\n",
    "del a[0]\n",
    "print('List after removing an existing item   :',a)\n",
    "print('-'*100)"
   ]
  },
  {
   "cell_type": "code",
   "execution_count": 8,
   "id": "1edf0969-b141-4b68-b984-4389b335ff71",
   "metadata": {},
   "outputs": [
    {
     "name": "stdout",
     "output_type": "stream",
     "text": [
      "Example of a Immutable Data type[Tuple]: \n",
      "\n"
     ]
    }
   ],
   "source": [
    "# Immutable Data types:\n",
    "#    Immutable data can be defined as those data types which cannot be altered after creation\n",
    "#    Immutable data types do not allow any kind of alteration i.e you cannot append or remove data or do any arithmetic operation after creation\n",
    "#    Examples: String,Tuples\n",
    "\n",
    "print('Example of a Immutable Data type[Tuple]: \\n')\n",
    "\n",
    "a = (1,2,3,4,5,6)"
   ]
  },
  {
   "cell_type": "code",
   "execution_count": 9,
   "id": "e1a60aea-a672-4006-b3f1-49b4e44e40f8",
   "metadata": {},
   "outputs": [
    {
     "ename": "TypeError",
     "evalue": "'tuple' object doesn't support item deletion",
     "output_type": "error",
     "traceback": [
      "\u001b[0;31m---------------------------------------------------------------------------\u001b[0m",
      "\u001b[0;31mTypeError\u001b[0m                                 Traceback (most recent call last)",
      "Cell \u001b[0;32mIn[9], line 1\u001b[0m\n\u001b[0;32m----> 1\u001b[0m \u001b[38;5;28;01mdel\u001b[39;00m a[\u001b[38;5;241m0\u001b[39m]\n",
      "\u001b[0;31mTypeError\u001b[0m: 'tuple' object doesn't support item deletion"
     ]
    }
   ],
   "source": [
    "del a[0]"
   ]
  },
  {
   "cell_type": "code",
   "execution_count": 10,
   "id": "dbce70ea-30a9-41ce-a483-b07b10091a5d",
   "metadata": {},
   "outputs": [
    {
     "ename": "TypeError",
     "evalue": "'tuple' object does not support item assignment",
     "output_type": "error",
     "traceback": [
      "\u001b[0;31m---------------------------------------------------------------------------\u001b[0m",
      "\u001b[0;31mTypeError\u001b[0m                                 Traceback (most recent call last)",
      "Cell \u001b[0;32mIn[10], line 1\u001b[0m\n\u001b[0;32m----> 1\u001b[0m \u001b[43ma\u001b[49m\u001b[43m[\u001b[49m\u001b[38;5;241;43m0\u001b[39;49m\u001b[43m]\u001b[49m \u001b[38;5;241m=\u001b[39m \u001b[38;5;241m10\u001b[39m\n",
      "\u001b[0;31mTypeError\u001b[0m: 'tuple' object does not support item assignment"
     ]
    }
   ],
   "source": [
    "a[0] = 10"
   ]
  },
  {
   "cell_type": "markdown",
   "id": "5c98950c-857f-4086-86bd-9936760c4a65",
   "metadata": {},
   "source": [
    "Above is the error that shows that tuple data type does not allow any changes once the tuple is created"
   ]
  }
 ],
 "metadata": {
  "kernelspec": {
   "display_name": "Python 3 (ipykernel)",
   "language": "python",
   "name": "python3"
  },
  "language_info": {
   "codemirror_mode": {
    "name": "ipython",
    "version": 3
   },
   "file_extension": ".py",
   "mimetype": "text/x-python",
   "name": "python",
   "nbconvert_exporter": "python",
   "pygments_lexer": "ipython3",
   "version": "3.10.8"
  }
 },
 "nbformat": 4,
 "nbformat_minor": 5
}
